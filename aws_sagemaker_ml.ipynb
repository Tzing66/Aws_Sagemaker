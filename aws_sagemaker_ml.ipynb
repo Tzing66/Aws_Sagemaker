{
 "cells": [
  {
   "cell_type": "markdown",
   "metadata": {},
   "source": [
    "I created this project in order to understand how AWS Sagemaker works and how i can deploy models on it locally without having to mess around on the console"
   ]
  },
  {
   "cell_type": "markdown",
   "metadata": {},
   "source": [
    "##### Using Random Forest Classifier\n",
    "\n",
    "#####  METRICS RESULTS FOR TESTING DATA \n",
    "\n"
   ]
  },
  {
   "cell_type": "code",
   "execution_count": null,
   "metadata": {},
   "outputs": [],
   "source": [
    "#DO NOT EXECUTE THIS CELL\n",
    "\n",
    "# [TESTING] Model Accuracy is:  0.8833333333333333\n",
    "# [TESTING] Testing Report: \n",
    "              precision    recall  f1-score   support\n",
    "           0       0.95      1.00      0.97        69\n",
    "           1       0.85      0.80      0.83        66\n",
    "           2       0.80      0.77      0.79        74\n",
    "           3       0.91      0.95      0.93        91\n",
    "    accuracy                           0.88       300\n",
    "   macro avg       0.88      0.88      0.88       300\n",
    " weighted avg       0.88      0.88      0.88       300"
   ]
  },
  {
   "cell_type": "code",
   "execution_count": 3,
   "metadata": {},
   "outputs": [
    {
     "name": "stdout",
     "output_type": "stream",
     "text": [
      "Collecting sagemaker\n",
      "  Downloading sagemaker-2.240.0-py3-none-any.whl (1.6 MB)\n",
      "                                              0.0/1.6 MB ? eta -:--:--\n",
      "     -                                        0.1/1.6 MB 1.7 MB/s eta 0:00:01\n",
      "     --                                       0.1/1.6 MB 1.7 MB/s eta 0:00:01\n",
      "     ------                                   0.3/1.6 MB 2.1 MB/s eta 0:00:01\n",
      "     -------                                  0.3/1.6 MB 1.8 MB/s eta 0:00:01\n",
      "     -------                                  0.3/1.6 MB 1.8 MB/s eta 0:00:01\n",
      "     ---------                                0.4/1.6 MB 1.5 MB/s eta 0:00:01\n",
      "     -------------                            0.6/1.6 MB 1.8 MB/s eta 0:00:01\n",
      "     ------------------                       0.7/1.6 MB 2.1 MB/s eta 0:00:01\n",
      "     -----------------------                  1.0/1.6 MB 2.3 MB/s eta 0:00:01\n",
      "     -----------------------------            1.2/1.6 MB 2.6 MB/s eta 0:00:01\n",
      "     ----------------------------------       1.4/1.6 MB 2.9 MB/s eta 0:00:01\n",
      "     --------------------------------------   1.6/1.6 MB 2.9 MB/s eta 0:00:01\n",
      "     ---------------------------------------- 1.6/1.6 MB 2.9 MB/s eta 0:00:00\n",
      "Collecting attrs<24,>=23.1.0 (from sagemaker)\n",
      "  Downloading attrs-23.2.0-py3-none-any.whl (60 kB)\n",
      "                                              0.0/60.8 kB ? eta -:--:--\n",
      "     ---------------------------------------- 60.8/60.8 kB ? eta 0:00:00\n",
      "Collecting boto3<2.0,>=1.35.75 (from sagemaker)\n",
      "  Downloading boto3-1.37.5-py3-none-any.whl (139 kB)\n",
      "                                              0.0/139.3 kB ? eta -:--:--\n",
      "     -------------------------------------- 139.3/139.3 kB 4.2 MB/s eta 0:00:00\n",
      "Collecting cloudpickle>=2.2.1 (from sagemaker)\n",
      "  Downloading cloudpickle-3.1.1-py3-none-any.whl (20 kB)\n",
      "Collecting docker (from sagemaker)\n",
      "  Downloading docker-7.1.0-py3-none-any.whl (147 kB)\n",
      "                                              0.0/147.8 kB ? eta -:--:--\n",
      "     -------------------------------------- 147.8/147.8 kB 4.4 MB/s eta 0:00:00\n",
      "Collecting fastapi (from sagemaker)\n",
      "  Downloading fastapi-0.115.11-py3-none-any.whl (94 kB)\n",
      "                                              0.0/94.9 kB ? eta -:--:--\n",
      "     ---------------------------------------- 94.9/94.9 kB ? eta 0:00:00\n",
      "Requirement already satisfied: google-pasta in c:\\users\\tanma\\appdata\\local\\programs\\python\\python311\\lib\\site-packages (from sagemaker) (0.2.0)\n",
      "Collecting importlib-metadata<7.0,>=1.4.0 (from sagemaker)\n",
      "  Downloading importlib_metadata-6.11.0-py3-none-any.whl (23 kB)\n",
      "Collecting jsonschema (from sagemaker)\n",
      "  Downloading jsonschema-4.23.0-py3-none-any.whl (88 kB)\n",
      "                                              0.0/88.5 kB ? eta -:--:--\n",
      "     ---------------------------------------- 88.5/88.5 kB 5.2 MB/s eta 0:00:00\n",
      "Requirement already satisfied: numpy<2.0,>=1.9.0 in c:\\users\\tanma\\appdata\\local\\programs\\python\\python311\\lib\\site-packages (from sagemaker) (1.26.0)\n",
      "Collecting omegaconf<=2.3,>=2.2 (from sagemaker)\n",
      "  Downloading omegaconf-2.3.0-py3-none-any.whl (79 kB)\n",
      "                                              0.0/79.5 kB ? eta -:--:--\n",
      "     ------------------------------           61.4/79.5 kB 3.2 MB/s eta 0:00:01\n",
      "     ---------------------------------------- 79.5/79.5 kB 1.5 MB/s eta 0:00:00\n",
      "Requirement already satisfied: packaging>=20.0 in c:\\users\\tanma\\appdata\\roaming\\python\\python311\\site-packages (from sagemaker) (23.1)\n",
      "Requirement already satisfied: pandas in c:\\users\\tanma\\appdata\\local\\programs\\python\\python311\\lib\\site-packages (from sagemaker) (2.1.1)\n",
      "Collecting pathos (from sagemaker)\n",
      "  Downloading pathos-0.3.3-py3-none-any.whl (82 kB)\n",
      "                                              0.0/82.1 kB ? eta -:--:--\n",
      "     ---------------------------------------- 82.1/82.1 kB 4.5 MB/s eta 0:00:00\n",
      "Requirement already satisfied: platformdirs in c:\\users\\tanma\\appdata\\local\\programs\\python\\python311\\lib\\site-packages (from sagemaker) (4.3.6)\n",
      "Requirement already satisfied: protobuf<6.0,>=3.12 in c:\\users\\tanma\\appdata\\local\\programs\\python\\python311\\lib\\site-packages (from sagemaker) (4.25.5)\n",
      "Requirement already satisfied: psutil in c:\\users\\tanma\\appdata\\roaming\\python\\python311\\site-packages (from sagemaker) (5.9.5)\n",
      "Requirement already satisfied: pyyaml~=6.0 in c:\\users\\tanma\\appdata\\local\\programs\\python\\python311\\lib\\site-packages (from sagemaker) (6.0.1)\n",
      "Requirement already satisfied: requests in c:\\users\\tanma\\appdata\\local\\programs\\python\\python311\\lib\\site-packages (from sagemaker) (2.31.0)\n",
      "Collecting sagemaker-core<2.0.0,>=1.0.17 (from sagemaker)\n",
      "  Downloading sagemaker_core-1.0.25-py3-none-any.whl (406 kB)\n",
      "                                              0.0/406.7 kB ? eta -:--:--\n",
      "     ---------------                       174.1/406.7 kB 10.2 MB/s eta 0:00:01\n",
      "     ------------------------------------   389.1/406.7 kB 6.0 MB/s eta 0:00:01\n",
      "     -------------------------------------- 406.7/406.7 kB 5.0 MB/s eta 0:00:00\n",
      "Collecting schema (from sagemaker)\n",
      "  Downloading schema-0.7.7-py2.py3-none-any.whl (18 kB)\n",
      "Collecting smdebug-rulesconfig==1.0.1 (from sagemaker)\n",
      "  Downloading smdebug_rulesconfig-1.0.1-py2.py3-none-any.whl (20 kB)\n",
      "Collecting tblib<4,>=1.7.0 (from sagemaker)\n",
      "  Downloading tblib-3.0.0-py3-none-any.whl (12 kB)\n",
      "Requirement already satisfied: tqdm in c:\\users\\tanma\\appdata\\local\\programs\\python\\python311\\lib\\site-packages (from sagemaker) (4.67.1)\n",
      "Requirement already satisfied: urllib3<3.0.0,>=1.26.8 in c:\\users\\tanma\\appdata\\local\\programs\\python\\python311\\lib\\site-packages (from sagemaker) (2.0.6)\n",
      "Collecting uvicorn (from sagemaker)\n",
      "  Downloading uvicorn-0.34.0-py3-none-any.whl (62 kB)\n",
      "                                              0.0/62.3 kB ? eta -:--:--\n",
      "     ---------------------------------------- 62.3/62.3 kB 3.5 MB/s eta 0:00:00\n",
      "Collecting botocore<1.38.0,>=1.37.5 (from boto3<2.0,>=1.35.75->sagemaker)\n",
      "  Downloading botocore-1.37.5-py3-none-any.whl (13.4 MB)\n",
      "                                              0.0/13.4 MB ? eta -:--:--\n",
      "     -                                        0.3/13.4 MB 10.6 MB/s eta 0:00:02\n",
      "     -                                        0.6/13.4 MB 7.1 MB/s eta 0:00:02\n",
      "     --                                       0.9/13.4 MB 7.5 MB/s eta 0:00:02\n",
      "     ---                                      1.3/13.4 MB 8.2 MB/s eta 0:00:02\n",
      "     ----                                     1.6/13.4 MB 7.4 MB/s eta 0:00:02\n",
      "     -----                                    2.0/13.4 MB 7.9 MB/s eta 0:00:02\n",
      "     ------                                   2.3/13.4 MB 7.6 MB/s eta 0:00:02\n",
      "     -------                                  2.4/13.4 MB 7.4 MB/s eta 0:00:02\n",
      "     -------                                  2.5/13.4 MB 6.4 MB/s eta 0:00:02\n",
      "     --------                                 2.8/13.4 MB 6.3 MB/s eta 0:00:02\n",
      "     --------                                 3.0/13.4 MB 6.1 MB/s eta 0:00:02\n",
      "     ---------                                3.1/13.4 MB 5.8 MB/s eta 0:00:02\n",
      "     ---------                                3.3/13.4 MB 5.8 MB/s eta 0:00:02\n",
      "     ----------                               3.4/13.4 MB 5.8 MB/s eta 0:00:02\n",
      "     ----------                               3.4/13.4 MB 5.8 MB/s eta 0:00:02\n",
      "     ----------                               3.4/13.4 MB 4.8 MB/s eta 0:00:03\n",
      "     ----------                               3.5/13.4 MB 4.7 MB/s eta 0:00:03\n",
      "     -----------                              3.9/13.4 MB 4.8 MB/s eta 0:00:02\n",
      "     ------------                             4.1/13.4 MB 4.8 MB/s eta 0:00:02\n",
      "     -------------                            4.6/13.4 MB 5.0 MB/s eta 0:00:02\n",
      "     ---------------                          5.3/13.4 MB 5.5 MB/s eta 0:00:02\n",
      "     -----------------                        5.9/13.4 MB 5.9 MB/s eta 0:00:02\n",
      "     --------------------                     6.9/13.4 MB 6.7 MB/s eta 0:00:01\n",
      "     ----------------------                   7.6/13.4 MB 7.0 MB/s eta 0:00:01\n",
      "     -----------------------                  7.8/13.4 MB 6.9 MB/s eta 0:00:01\n",
      "     ------------------------                 8.2/13.4 MB 7.0 MB/s eta 0:00:01\n",
      "     --------------------------               8.7/13.4 MB 7.1 MB/s eta 0:00:01\n",
      "     ---------------------------              9.0/13.4 MB 7.2 MB/s eta 0:00:01\n",
      "     ---------------------------              9.3/13.4 MB 7.2 MB/s eta 0:00:01\n",
      "     ----------------------------             9.4/13.4 MB 7.1 MB/s eta 0:00:01\n",
      "     ----------------------------             9.5/13.4 MB 6.8 MB/s eta 0:00:01\n",
      "     -----------------------------            9.9/13.4 MB 6.8 MB/s eta 0:00:01\n",
      "     ------------------------------           10.1/13.4 MB 6.8 MB/s eta 0:00:01\n",
      "     -------------------------------          10.4/13.4 MB 6.7 MB/s eta 0:00:01\n",
      "     --------------------------------         10.8/13.4 MB 6.8 MB/s eta 0:00:01\n",
      "     --------------------------------         11.0/13.4 MB 6.6 MB/s eta 0:00:01\n",
      "     ----------------------------------       11.5/13.4 MB 6.8 MB/s eta 0:00:01\n",
      "     ------------------------------------     12.1/13.4 MB 7.0 MB/s eta 0:00:01\n",
      "     ---------------------------------------  13.1/13.4 MB 7.8 MB/s eta 0:00:01\n",
      "     ---------------------------------------  13.4/13.4 MB 8.2 MB/s eta 0:00:01\n",
      "     ---------------------------------------- 13.4/13.4 MB 8.0 MB/s eta 0:00:00\n",
      "Collecting jmespath<2.0.0,>=0.7.1 (from boto3<2.0,>=1.35.75->sagemaker)\n",
      "  Downloading jmespath-1.0.1-py3-none-any.whl (20 kB)\n",
      "Collecting s3transfer<0.12.0,>=0.11.0 (from boto3<2.0,>=1.35.75->sagemaker)\n",
      "  Downloading s3transfer-0.11.3-py3-none-any.whl (84 kB)\n",
      "                                              0.0/84.2 kB ? eta -:--:--\n",
      "     ---------------------------------------- 84.2/84.2 kB 4.9 MB/s eta 0:00:00\n",
      "Collecting zipp>=0.5 (from importlib-metadata<7.0,>=1.4.0->sagemaker)\n",
      "  Downloading zipp-3.21.0-py3-none-any.whl (9.6 kB)\n",
      "Collecting antlr4-python3-runtime==4.9.* (from omegaconf<=2.3,>=2.2->sagemaker)\n",
      "  Downloading antlr4-python3-runtime-4.9.3.tar.gz (117 kB)\n",
      "                                              0.0/117.0 kB ? eta -:--:--\n",
      "     ---                                      10.2/117.0 kB ? eta -:--:--\n",
      "     ---                                      10.2/117.0 kB ? eta -:--:--\n",
      "     ------------------------------------ 117.0/117.0 kB 979.8 kB/s eta 0:00:00\n",
      "  Preparing metadata (setup.py): started\n",
      "  Preparing metadata (setup.py): finished with status 'done'\n",
      "Requirement already satisfied: pydantic<3.0.0,>=2.0.0 in c:\\users\\tanma\\appdata\\local\\programs\\python\\python311\\lib\\site-packages (from sagemaker-core<2.0.0,>=1.0.17->sagemaker) (2.10.6)\n",
      "Requirement already satisfied: rich<14.0.0,>=13.0.0 in c:\\users\\tanma\\appdata\\local\\programs\\python\\python311\\lib\\site-packages (from sagemaker-core<2.0.0,>=1.0.17->sagemaker) (13.9.1)\n",
      "Collecting mock<5.0,>4.0 (from sagemaker-core<2.0.0,>=1.0.17->sagemaker)\n",
      "  Downloading mock-4.0.3-py3-none-any.whl (28 kB)\n",
      "Collecting jsonschema-specifications>=2023.03.6 (from jsonschema->sagemaker)\n",
      "  Downloading jsonschema_specifications-2024.10.1-py3-none-any.whl (18 kB)\n",
      "Collecting referencing>=0.28.4 (from jsonschema->sagemaker)\n",
      "  Downloading referencing-0.36.2-py3-none-any.whl (26 kB)\n",
      "Collecting rpds-py>=0.7.1 (from jsonschema->sagemaker)\n",
      "  Downloading rpds_py-0.23.1-cp311-cp311-win_amd64.whl (232 kB)\n",
      "                                              0.0/233.0 kB ? eta -:--:--\n",
      "     -------------------------------------- 233.0/233.0 kB 7.2 MB/s eta 0:00:00\n",
      "Requirement already satisfied: pywin32>=304 in c:\\users\\tanma\\appdata\\roaming\\python\\python311\\site-packages (from docker->sagemaker) (306)\n",
      "Requirement already satisfied: charset-normalizer<4,>=2 in c:\\users\\tanma\\appdata\\local\\programs\\python\\python311\\lib\\site-packages (from requests->sagemaker) (3.3.0)\n",
      "Requirement already satisfied: idna<4,>=2.5 in c:\\users\\tanma\\appdata\\local\\programs\\python\\python311\\lib\\site-packages (from requests->sagemaker) (3.4)\n",
      "Requirement already satisfied: certifi>=2017.4.17 in c:\\users\\tanma\\appdata\\local\\programs\\python\\python311\\lib\\site-packages (from requests->sagemaker) (2023.7.22)\n",
      "Collecting starlette<0.47.0,>=0.40.0 (from fastapi->sagemaker)\n",
      "  Downloading starlette-0.46.0-py3-none-any.whl (71 kB)\n",
      "                                              0.0/72.0 kB ? eta -:--:--\n",
      "     ---------------------------------------- 72.0/72.0 kB 3.9 MB/s eta 0:00:00\n",
      "Requirement already satisfied: typing-extensions>=4.8.0 in c:\\users\\tanma\\appdata\\local\\programs\\python\\python311\\lib\\site-packages (from fastapi->sagemaker) (4.12.2)\n",
      "Requirement already satisfied: six in c:\\users\\tanma\\appdata\\roaming\\python\\python311\\site-packages (from google-pasta->sagemaker) (1.16.0)\n",
      "Requirement already satisfied: python-dateutil>=2.8.2 in c:\\users\\tanma\\appdata\\roaming\\python\\python311\\site-packages (from pandas->sagemaker) (2.8.2)\n",
      "Requirement already satisfied: pytz>=2020.1 in c:\\users\\tanma\\appdata\\local\\programs\\python\\python311\\lib\\site-packages (from pandas->sagemaker) (2023.3.post1)\n",
      "Requirement already satisfied: tzdata>=2022.1 in c:\\users\\tanma\\appdata\\local\\programs\\python\\python311\\lib\\site-packages (from pandas->sagemaker) (2023.3)\n",
      "Collecting ppft>=1.7.6.9 (from pathos->sagemaker)\n",
      "  Downloading ppft-1.7.6.9-py3-none-any.whl (56 kB)\n",
      "                                              0.0/56.8 kB ? eta -:--:--\n",
      "     ---------------------------------------- 56.8/56.8 kB 2.9 MB/s eta 0:00:00\n",
      "Collecting dill>=0.3.9 (from pathos->sagemaker)\n",
      "  Downloading dill-0.3.9-py3-none-any.whl (119 kB)\n",
      "                                              0.0/119.4 kB ? eta -:--:--\n",
      "     -------------------------------------- 119.4/119.4 kB 6.8 MB/s eta 0:00:00\n",
      "Collecting pox>=0.3.5 (from pathos->sagemaker)\n",
      "  Downloading pox-0.3.5-py3-none-any.whl (29 kB)\n",
      "Collecting multiprocess>=0.70.17 (from pathos->sagemaker)\n",
      "  Downloading multiprocess-0.70.17-py311-none-any.whl (144 kB)\n",
      "                                              0.0/144.3 kB ? eta -:--:--\n",
      "     -------------------------------------- 144.3/144.3 kB 4.3 MB/s eta 0:00:00\n",
      "Requirement already satisfied: colorama in c:\\users\\tanma\\appdata\\roaming\\python\\python311\\site-packages (from tqdm->sagemaker) (0.4.6)\n",
      "Collecting click>=7.0 (from uvicorn->sagemaker)\n",
      "  Downloading click-8.1.8-py3-none-any.whl (98 kB)\n",
      "                                              0.0/98.2 kB ? eta -:--:--\n",
      "     ---------------------------------------- 98.2/98.2 kB ? eta 0:00:00\n",
      "Collecting h11>=0.8 (from uvicorn->sagemaker)\n",
      "  Downloading h11-0.14.0-py3-none-any.whl (58 kB)\n",
      "                                              0.0/58.3 kB ? eta -:--:--\n",
      "     ---------------------------------------- 58.3/58.3 kB ? eta 0:00:00\n",
      "Requirement already satisfied: annotated-types>=0.6.0 in c:\\users\\tanma\\appdata\\local\\programs\\python\\python311\\lib\\site-packages (from pydantic<3.0.0,>=2.0.0->sagemaker-core<2.0.0,>=1.0.17->sagemaker) (0.7.0)\n",
      "Requirement already satisfied: pydantic-core==2.27.2 in c:\\users\\tanma\\appdata\\local\\programs\\python\\python311\\lib\\site-packages (from pydantic<3.0.0,>=2.0.0->sagemaker-core<2.0.0,>=1.0.17->sagemaker) (2.27.2)\n",
      "Requirement already satisfied: markdown-it-py>=2.2.0 in c:\\users\\tanma\\appdata\\local\\programs\\python\\python311\\lib\\site-packages (from rich<14.0.0,>=13.0.0->sagemaker-core<2.0.0,>=1.0.17->sagemaker) (3.0.0)\n",
      "Requirement already satisfied: pygments<3.0.0,>=2.13.0 in c:\\users\\tanma\\appdata\\roaming\\python\\python311\\site-packages (from rich<14.0.0,>=13.0.0->sagemaker-core<2.0.0,>=1.0.17->sagemaker) (2.16.1)\n",
      "Collecting anyio<5,>=3.6.2 (from starlette<0.47.0,>=0.40.0->fastapi->sagemaker)\n",
      "  Downloading anyio-4.8.0-py3-none-any.whl (96 kB)\n",
      "                                              0.0/96.0 kB ? eta -:--:--\n",
      "     ---------------------------------------- 96.0/96.0 kB 5.4 MB/s eta 0:00:00\n",
      "Collecting sniffio>=1.1 (from anyio<5,>=3.6.2->starlette<0.47.0,>=0.40.0->fastapi->sagemaker)\n",
      "  Downloading sniffio-1.3.1-py3-none-any.whl (10 kB)\n",
      "Requirement already satisfied: mdurl~=0.1 in c:\\users\\tanma\\appdata\\local\\programs\\python\\python311\\lib\\site-packages (from markdown-it-py>=2.2.0->rich<14.0.0,>=13.0.0->sagemaker-core<2.0.0,>=1.0.17->sagemaker) (0.1.2)\n",
      "Building wheels for collected packages: antlr4-python3-runtime\n",
      "  Building wheel for antlr4-python3-runtime (setup.py): started\n",
      "  Building wheel for antlr4-python3-runtime (setup.py): finished with status 'done'\n",
      "  Created wheel for antlr4-python3-runtime: filename=antlr4_python3_runtime-4.9.3-py3-none-any.whl size=144578 sha256=1bb15a29858a89d9bd52c85e1ffc7276d76a13e7cce8c4e787b9f893bc2d91ea\n",
      "  Stored in directory: c:\\users\\tanma\\appdata\\local\\pip\\cache\\wheels\\1a\\97\\32\\461f837398029ad76911109f07047fde1d7b661a147c7c56d1\n",
      "Successfully built antlr4-python3-runtime\n",
      "Installing collected packages: schema, antlr4-python3-runtime, zipp, tblib, sniffio, smdebug-rulesconfig, rpds-py, ppft, pox, omegaconf, mock, jmespath, h11, dill, cloudpickle, click, attrs, uvicorn, referencing, multiprocess, importlib-metadata, docker, botocore, anyio, starlette, s3transfer, pathos, jsonschema-specifications, jsonschema, fastapi, boto3, sagemaker-core, sagemaker\n",
      "Successfully installed antlr4-python3-runtime-4.9.3 anyio-4.8.0 attrs-23.2.0 boto3-1.37.5 botocore-1.37.5 click-8.1.8 cloudpickle-3.1.1 dill-0.3.9 docker-7.1.0 fastapi-0.115.11 h11-0.14.0 importlib-metadata-6.11.0 jmespath-1.0.1 jsonschema-4.23.0 jsonschema-specifications-2024.10.1 mock-4.0.3 multiprocess-0.70.17 omegaconf-2.3.0 pathos-0.3.3 pox-0.3.5 ppft-1.7.6.9 referencing-0.36.2 rpds-py-0.23.1 s3transfer-0.11.3 sagemaker-2.240.0 sagemaker-core-1.0.25 schema-0.7.7 smdebug-rulesconfig-1.0.1 sniffio-1.3.1 starlette-0.46.0 tblib-3.0.0 uvicorn-0.34.0 zipp-3.21.0\n"
     ]
    },
    {
     "name": "stderr",
     "output_type": "stream",
     "text": [
      "\n",
      "[notice] A new release of pip is available: 23.1.2 -> 25.0.1\n",
      "[notice] To update, run: python.exe -m pip install --upgrade pip\n"
     ]
    },
    {
     "name": "stdout",
     "output_type": "stream",
     "text": [
      "Requirement already satisfied: boto3 in c:\\users\\tanma\\appdata\\local\\programs\\python\\python311\\lib\\site-packages (1.37.5)\n",
      "Requirement already satisfied: botocore<1.38.0,>=1.37.5 in c:\\users\\tanma\\appdata\\local\\programs\\python\\python311\\lib\\site-packages (from boto3) (1.37.5)\n",
      "Requirement already satisfied: jmespath<2.0.0,>=0.7.1 in c:\\users\\tanma\\appdata\\local\\programs\\python\\python311\\lib\\site-packages (from boto3) (1.0.1)\n",
      "Requirement already satisfied: s3transfer<0.12.0,>=0.11.0 in c:\\users\\tanma\\appdata\\local\\programs\\python\\python311\\lib\\site-packages (from boto3) (0.11.3)\n",
      "Requirement already satisfied: python-dateutil<3.0.0,>=2.1 in c:\\users\\tanma\\appdata\\roaming\\python\\python311\\site-packages (from botocore<1.38.0,>=1.37.5->boto3) (2.8.2)\n",
      "Requirement already satisfied: urllib3!=2.2.0,<3,>=1.25.4 in c:\\users\\tanma\\appdata\\local\\programs\\python\\python311\\lib\\site-packages (from botocore<1.38.0,>=1.37.5->boto3) (2.0.6)\n",
      "Requirement already satisfied: six>=1.5 in c:\\users\\tanma\\appdata\\roaming\\python\\python311\\site-packages (from python-dateutil<3.0.0,>=2.1->botocore<1.38.0,>=1.37.5->boto3) (1.16.0)\n"
     ]
    },
    {
     "name": "stderr",
     "output_type": "stream",
     "text": [
      "\n",
      "[notice] A new release of pip is available: 23.1.2 -> 25.0.1\n",
      "[notice] To update, run: python.exe -m pip install --upgrade pip\n"
     ]
    }
   ],
   "source": [
    "!pip install sagemaker\n",
    "!pip install boto3\n",
    "!pip install sklearn\n",
    "!pip install pandas"
   ]
  },
  {
   "cell_type": "markdown",
   "metadata": {},
   "source": [
    "Set up an IAM user - \"attach policies\" and give administrative access\n",
    "Create an access key \n",
    "Download AWS CLI \n",
    "Configure it acc to your access key\n"
   ]
  },
  {
   "cell_type": "code",
   "execution_count": 4,
   "metadata": {},
   "outputs": [
    {
     "name": "stderr",
     "output_type": "stream",
     "text": [
      "c:\\Users\\tanma\\AppData\\Local\\Programs\\Python\\Python311\\Lib\\site-packages\\pydantic\\_internal\\_fields.py:192: UserWarning: Field name \"json\" in \"MonitoringDatasetFormat\" shadows an attribute in parent \"Base\"\n",
      "  warnings.warn(\n"
     ]
    },
    {
     "data": {
      "text/html": [
       "<pre style=\"white-space:pre;overflow-x:auto;line-height:normal;font-family:Menlo,'DejaVu Sans Mono',consolas,'Courier New',monospace\"><span style=\"color: #7fbfbf; text-decoration-color: #7fbfbf\">[03/03/25 23:06:05] </span><span style=\"color: #0069ff; text-decoration-color: #0069ff; font-weight: bold\">INFO    </span> Found credentials in shared credentials file: ~<span style=\"color: #e100e1; text-decoration-color: #e100e1\">/.aws/credentials</span>   <a href=\"file://c:\\Users\\tanma\\AppData\\Local\\Programs\\Python\\Python311\\Lib\\site-packages\\botocore\\credentials.py\" target=\"_blank\"><span style=\"color: #7f7f7f; text-decoration-color: #7f7f7f\">credentials.py</span></a><span style=\"color: #7f7f7f; text-decoration-color: #7f7f7f\">:</span><a href=\"file://c:\\Users\\tanma\\AppData\\Local\\Programs\\Python\\Python311\\Lib\\site-packages\\botocore\\credentials.py#1352\" target=\"_blank\"><span style=\"color: #7f7f7f; text-decoration-color: #7f7f7f\">1352</span></a>\n",
       "</pre>\n"
      ],
      "text/plain": [
       "\u001b[2;36m[03/03/25 23:06:05]\u001b[0m\u001b[2;36m \u001b[0m\u001b[1;38;2;0;105;255mINFO    \u001b[0m Found credentials in shared credentials file: ~\u001b[38;2;225;0;225m/.aws/\u001b[0m\u001b[38;2;225;0;225mcredentials\u001b[0m   \u001b]8;id=587191;file://c:\\Users\\tanma\\AppData\\Local\\Programs\\Python\\Python311\\Lib\\site-packages\\botocore\\credentials.py\u001b\\\u001b[2mcredentials.py\u001b[0m\u001b]8;;\u001b\\\u001b[2m:\u001b[0m\u001b]8;id=835911;file://c:\\Users\\tanma\\AppData\\Local\\Programs\\Python\\Python311\\Lib\\site-packages\\botocore\\credentials.py#1352\u001b\\\u001b[2m1352\u001b[0m\u001b]8;;\u001b\\\n"
      ]
     },
     "metadata": {},
     "output_type": "display_data"
    },
    {
     "name": "stdout",
     "output_type": "stream",
     "text": [
      "sagemaker.config INFO - Not applying SDK defaults from location: C:\\ProgramData\\sagemaker\\sagemaker\\config.yaml\n",
      "sagemaker.config INFO - Not applying SDK defaults from location: C:\\Users\\tanma\\AppData\\Local\\sagemaker\\sagemaker\\config.yaml\n"
     ]
    }
   ],
   "source": [
    "import sagemaker\n",
    "from sklearn.model_selection import train_test_split\n",
    "import boto3\n",
    "import pandas as pd"
   ]
  },
  {
   "cell_type": "markdown",
   "metadata": {},
   "source": [
    "Creating a Sagemaker session "
   ]
  },
  {
   "cell_type": "code",
   "execution_count": null,
   "metadata": {},
   "outputs": [
    {
     "name": "stdout",
     "output_type": "stream",
     "text": [
      "Using bucket bkt-sage-ml-test\n"
     ]
    }
   ],
   "source": [
    "sm_boto3 = boto3.client(\"sagemaker\")\n",
    "sess = sagemaker.Session()\n",
    "region = sess.boto_session.region_name\n",
    "bucket = 'bkt-sage-ml-test' #my bucket - can be yours too \n",
    "print(\"Using bucket \" + bucket)"
   ]
  },
  {
   "cell_type": "markdown",
   "metadata": {},
   "source": [
    "Data Preprocessing and Analysis"
   ]
  },
  {
   "cell_type": "code",
   "execution_count": 7,
   "metadata": {},
   "outputs": [],
   "source": [
    "#data from - https://www.kaggle.com/datasets/iabhishekofficial/mobile-price-classification\n",
    "\n",
    "df1 = pd.read_csv(\"C:/Users/tanma/Downloads/mobile_price_data/mobile_price_classification.csv\")\n",
    "df2 = pd.read_csv(\"C:/Users/tanma/Downloads/mobile_price_data/archive/test.csv\")\n",
    "df3 = pd.read_csv(\"C:/Users/tanma/Downloads/mobile_price_data/archive/train.csv\")"
   ]
  },
  {
   "cell_type": "code",
   "execution_count": 8,
   "metadata": {},
   "outputs": [
    {
     "data": {
      "text/plain": [
       "(2000, 21)"
      ]
     },
     "execution_count": 8,
     "metadata": {},
     "output_type": "execute_result"
    }
   ],
   "source": [
    "df1.shape"
   ]
  },
  {
   "cell_type": "code",
   "execution_count": 9,
   "metadata": {},
   "outputs": [
    {
     "data": {
      "text/plain": [
       "(1000, 21)"
      ]
     },
     "execution_count": 9,
     "metadata": {},
     "output_type": "execute_result"
    }
   ],
   "source": [
    "df2.shape"
   ]
  },
  {
   "cell_type": "code",
   "execution_count": 10,
   "metadata": {},
   "outputs": [
    {
     "data": {
      "text/plain": [
       "(2000, 21)"
      ]
     },
     "execution_count": 10,
     "metadata": {},
     "output_type": "execute_result"
    }
   ],
   "source": [
    "df3.shape"
   ]
  },
  {
   "cell_type": "code",
   "execution_count": 16,
   "metadata": {},
   "outputs": [
    {
     "data": {
      "text/plain": [
       "price_range\n",
       "1    0.25\n",
       "2    0.25\n",
       "3    0.25\n",
       "0    0.25\n",
       "Name: proportion, dtype: float64"
      ]
     },
     "execution_count": 16,
     "metadata": {},
     "output_type": "execute_result"
    }
   ],
   "source": [
    "df1['price_range'].value_counts(normalize=True)"
   ]
  },
  {
   "cell_type": "code",
   "execution_count": null,
   "metadata": {},
   "outputs": [
    {
     "data": {
      "text/plain": [
       "battery_power    0.0\n",
       "blue             0.0\n",
       "clock_speed      0.0\n",
       "dual_sim         0.0\n",
       "fc               0.0\n",
       "four_g           0.0\n",
       "int_memory       0.0\n",
       "m_dep            0.0\n",
       "mobile_wt        0.0\n",
       "n_cores          0.0\n",
       "pc               0.0\n",
       "px_height        0.0\n",
       "px_width         0.0\n",
       "ram              0.0\n",
       "sc_h             0.0\n",
       "sc_w             0.0\n",
       "talk_time        0.0\n",
       "three_g          0.0\n",
       "touch_screen     0.0\n",
       "wifi             0.0\n",
       "price_range      0.0\n",
       "dtype: float64"
      ]
     },
     "execution_count": 15,
     "metadata": {},
     "output_type": "execute_result"
    }
   ],
   "source": [
    "df1.isnull().mean() * 100 #% of values missing"
   ]
  },
  {
   "cell_type": "code",
   "execution_count": 21,
   "metadata": {},
   "outputs": [
    {
     "data": {
      "text/plain": [
       "['battery_power',\n",
       " 'blue',\n",
       " 'clock_speed',\n",
       " 'dual_sim',\n",
       " 'fc',\n",
       " 'four_g',\n",
       " 'int_memory',\n",
       " 'm_dep',\n",
       " 'mobile_wt',\n",
       " 'n_cores',\n",
       " 'pc',\n",
       " 'px_height',\n",
       " 'px_width',\n",
       " 'ram',\n",
       " 'sc_h',\n",
       " 'sc_w',\n",
       " 'talk_time',\n",
       " 'three_g',\n",
       " 'touch_screen',\n",
       " 'wifi']"
      ]
     },
     "execution_count": 21,
     "metadata": {},
     "output_type": "execute_result"
    }
   ],
   "source": [
    "features = list(df1.columns)\n",
    "label = features.pop(-1)\n",
    "features"
   ]
  },
  {
   "cell_type": "code",
   "execution_count": 22,
   "metadata": {},
   "outputs": [
    {
     "data": {
      "text/plain": [
       "'price_range'"
      ]
     },
     "execution_count": 22,
     "metadata": {},
     "output_type": "execute_result"
    }
   ],
   "source": [
    "label"
   ]
  },
  {
   "cell_type": "code",
   "execution_count": 23,
   "metadata": {},
   "outputs": [
    {
     "data": {
      "text/plain": [
       "['battery_power',\n",
       " 'blue',\n",
       " 'clock_speed',\n",
       " 'dual_sim',\n",
       " 'fc',\n",
       " 'four_g',\n",
       " 'int_memory',\n",
       " 'm_dep',\n",
       " 'mobile_wt',\n",
       " 'n_cores',\n",
       " 'pc',\n",
       " 'px_height',\n",
       " 'px_width',\n",
       " 'ram',\n",
       " 'sc_h',\n",
       " 'sc_w',\n",
       " 'talk_time',\n",
       " 'three_g',\n",
       " 'touch_screen',\n",
       " 'wifi']"
      ]
     },
     "execution_count": 23,
     "metadata": {},
     "output_type": "execute_result"
    }
   ],
   "source": [
    "features"
   ]
  },
  {
   "cell_type": "code",
   "execution_count": 24,
   "metadata": {},
   "outputs": [],
   "source": [
    "x = df1[features]\n",
    "y = df1[label]"
   ]
  },
  {
   "cell_type": "code",
   "execution_count": 25,
   "metadata": {},
   "outputs": [
    {
     "name": "stdout",
     "output_type": "stream",
     "text": [
      "(1700, 20)\n",
      "(300, 20)\n",
      "(1700,)\n",
      "(300,)\n"
     ]
    }
   ],
   "source": [
    "X_train, X_test, y_train, y_test = train_test_split(x,y, test_size=0.15, random_state=0)\n",
    "print(X_train.shape)\n",
    "print(X_test.shape)\n",
    "print(y_train.shape)\n",
    "print(y_test.shape)"
   ]
  },
  {
   "cell_type": "code",
   "execution_count": 26,
   "metadata": {},
   "outputs": [],
   "source": [
    "trainX = pd.DataFrame(X_train)\n",
    "trainX[label] = y_train\n",
    "\n",
    "testX = pd.DataFrame(X_test)\n",
    "testX[label] = y_test"
   ]
  },
  {
   "cell_type": "code",
   "execution_count": 28,
   "metadata": {},
   "outputs": [
    {
     "data": {
      "text/html": [
       "<div>\n",
       "<style scoped>\n",
       "    .dataframe tbody tr th:only-of-type {\n",
       "        vertical-align: middle;\n",
       "    }\n",
       "\n",
       "    .dataframe tbody tr th {\n",
       "        vertical-align: top;\n",
       "    }\n",
       "\n",
       "    .dataframe thead th {\n",
       "        text-align: right;\n",
       "    }\n",
       "</style>\n",
       "<table border=\"1\" class=\"dataframe\">\n",
       "  <thead>\n",
       "    <tr style=\"text-align: right;\">\n",
       "      <th></th>\n",
       "      <th>battery_power</th>\n",
       "      <th>blue</th>\n",
       "      <th>clock_speed</th>\n",
       "      <th>dual_sim</th>\n",
       "      <th>fc</th>\n",
       "      <th>four_g</th>\n",
       "      <th>int_memory</th>\n",
       "      <th>m_dep</th>\n",
       "      <th>mobile_wt</th>\n",
       "      <th>n_cores</th>\n",
       "      <th>...</th>\n",
       "      <th>px_height</th>\n",
       "      <th>px_width</th>\n",
       "      <th>ram</th>\n",
       "      <th>sc_h</th>\n",
       "      <th>sc_w</th>\n",
       "      <th>talk_time</th>\n",
       "      <th>three_g</th>\n",
       "      <th>touch_screen</th>\n",
       "      <th>wifi</th>\n",
       "      <th>price_range</th>\n",
       "    </tr>\n",
       "  </thead>\n",
       "  <tbody>\n",
       "    <tr>\n",
       "      <th>405</th>\n",
       "      <td>1454</td>\n",
       "      <td>1</td>\n",
       "      <td>0.5</td>\n",
       "      <td>1</td>\n",
       "      <td>1</td>\n",
       "      <td>0</td>\n",
       "      <td>34</td>\n",
       "      <td>0.7</td>\n",
       "      <td>83</td>\n",
       "      <td>4</td>\n",
       "      <td>...</td>\n",
       "      <td>250</td>\n",
       "      <td>1033</td>\n",
       "      <td>3419</td>\n",
       "      <td>7</td>\n",
       "      <td>5</td>\n",
       "      <td>5</td>\n",
       "      <td>1</td>\n",
       "      <td>1</td>\n",
       "      <td>0</td>\n",
       "      <td>3</td>\n",
       "    </tr>\n",
       "    <tr>\n",
       "      <th>1190</th>\n",
       "      <td>1092</td>\n",
       "      <td>1</td>\n",
       "      <td>0.5</td>\n",
       "      <td>1</td>\n",
       "      <td>10</td>\n",
       "      <td>0</td>\n",
       "      <td>11</td>\n",
       "      <td>0.5</td>\n",
       "      <td>167</td>\n",
       "      <td>3</td>\n",
       "      <td>...</td>\n",
       "      <td>468</td>\n",
       "      <td>571</td>\n",
       "      <td>737</td>\n",
       "      <td>14</td>\n",
       "      <td>4</td>\n",
       "      <td>11</td>\n",
       "      <td>0</td>\n",
       "      <td>1</td>\n",
       "      <td>0</td>\n",
       "      <td>0</td>\n",
       "    </tr>\n",
       "    <tr>\n",
       "      <th>1132</th>\n",
       "      <td>1524</td>\n",
       "      <td>1</td>\n",
       "      <td>1.8</td>\n",
       "      <td>1</td>\n",
       "      <td>0</td>\n",
       "      <td>0</td>\n",
       "      <td>10</td>\n",
       "      <td>0.6</td>\n",
       "      <td>174</td>\n",
       "      <td>4</td>\n",
       "      <td>...</td>\n",
       "      <td>154</td>\n",
       "      <td>550</td>\n",
       "      <td>2678</td>\n",
       "      <td>16</td>\n",
       "      <td>5</td>\n",
       "      <td>13</td>\n",
       "      <td>1</td>\n",
       "      <td>0</td>\n",
       "      <td>1</td>\n",
       "      <td>2</td>\n",
       "    </tr>\n",
       "    <tr>\n",
       "      <th>731</th>\n",
       "      <td>1807</td>\n",
       "      <td>1</td>\n",
       "      <td>2.1</td>\n",
       "      <td>0</td>\n",
       "      <td>2</td>\n",
       "      <td>0</td>\n",
       "      <td>49</td>\n",
       "      <td>0.8</td>\n",
       "      <td>125</td>\n",
       "      <td>1</td>\n",
       "      <td>...</td>\n",
       "      <td>337</td>\n",
       "      <td>1384</td>\n",
       "      <td>1906</td>\n",
       "      <td>17</td>\n",
       "      <td>13</td>\n",
       "      <td>13</td>\n",
       "      <td>0</td>\n",
       "      <td>1</td>\n",
       "      <td>1</td>\n",
       "      <td>2</td>\n",
       "    </tr>\n",
       "    <tr>\n",
       "      <th>1754</th>\n",
       "      <td>1086</td>\n",
       "      <td>1</td>\n",
       "      <td>1.7</td>\n",
       "      <td>1</td>\n",
       "      <td>0</td>\n",
       "      <td>1</td>\n",
       "      <td>43</td>\n",
       "      <td>0.2</td>\n",
       "      <td>111</td>\n",
       "      <td>6</td>\n",
       "      <td>...</td>\n",
       "      <td>56</td>\n",
       "      <td>1150</td>\n",
       "      <td>3285</td>\n",
       "      <td>11</td>\n",
       "      <td>5</td>\n",
       "      <td>17</td>\n",
       "      <td>1</td>\n",
       "      <td>1</td>\n",
       "      <td>0</td>\n",
       "      <td>2</td>\n",
       "    </tr>\n",
       "  </tbody>\n",
       "</table>\n",
       "<p>5 rows × 21 columns</p>\n",
       "</div>"
      ],
      "text/plain": [
       "      battery_power  blue  clock_speed  dual_sim  fc  four_g  int_memory  \\\n",
       "405            1454     1          0.5         1   1       0          34   \n",
       "1190           1092     1          0.5         1  10       0          11   \n",
       "1132           1524     1          1.8         1   0       0          10   \n",
       "731            1807     1          2.1         0   2       0          49   \n",
       "1754           1086     1          1.7         1   0       1          43   \n",
       "\n",
       "      m_dep  mobile_wt  n_cores  ...  px_height  px_width   ram  sc_h  sc_w  \\\n",
       "405     0.7         83        4  ...        250      1033  3419     7     5   \n",
       "1190    0.5        167        3  ...        468       571   737    14     4   \n",
       "1132    0.6        174        4  ...        154       550  2678    16     5   \n",
       "731     0.8        125        1  ...        337      1384  1906    17    13   \n",
       "1754    0.2        111        6  ...         56      1150  3285    11     5   \n",
       "\n",
       "      talk_time  three_g  touch_screen  wifi  price_range  \n",
       "405           5        1             1     0            3  \n",
       "1190         11        0             1     0            0  \n",
       "1132         13        1             0     1            2  \n",
       "731          13        0             1     1            2  \n",
       "1754         17        1             1     0            2  \n",
       "\n",
       "[5 rows x 21 columns]"
      ]
     },
     "execution_count": 28,
     "metadata": {},
     "output_type": "execute_result"
    }
   ],
   "source": [
    "testX.head(5)"
   ]
  },
  {
   "cell_type": "code",
   "execution_count": 30,
   "metadata": {},
   "outputs": [],
   "source": [
    "trainX.to_csv(\"C:/Users/tanma/Downloads/train-file.csv\",index = False)\n",
    "testX.to_csv(\"C:/Users/tanma/Downloads/test-file.csv\", index = False)"
   ]
  },
  {
   "cell_type": "code",
   "execution_count": 31,
   "metadata": {},
   "outputs": [
    {
     "data": {
      "text/plain": [
       "'bkt-sage-ml-test'"
      ]
     },
     "execution_count": 31,
     "metadata": {},
     "output_type": "execute_result"
    }
   ],
   "source": [
    "bucket"
   ]
  },
  {
   "cell_type": "markdown",
   "metadata": {},
   "source": [
    "Uploading the data we will be using"
   ]
  },
  {
   "cell_type": "code",
   "execution_count": null,
   "metadata": {},
   "outputs": [
    {
     "name": "stdout",
     "output_type": "stream",
     "text": [
      "s3://bkt-sage-ml-test/sagemaker/price_classification/file_folder/train-file.csv\n",
      "s3://bkt-sage-ml-test/sagemaker/price_classification/file_folder/test-file.csv\n"
     ]
    }
   ],
   "source": [
    "#sending data to S3 bucket - SageMaker takes data from s3\n",
    "sk_prefix = \"sagemaker/price_classification/file_folder\" #creates the directory for files inside the s3 bucket we provided above - bkt-sage-ml-test\n",
    "trainpath = sess.upload_data(\n",
    "    path=\"C:/Users/tanma/Downloads/train-file.csv\", bucket=bucket, key_prefix=sk_prefix\n",
    ")\n",
    "\n",
    "testpath = sess.upload_data(\n",
    "    path=\"C:/Users/tanma/Downloads/test-file.csv\", bucket=bucket, key_prefix=sk_prefix\n",
    ")\n"
   ]
  },
  {
   "cell_type": "code",
   "execution_count": 34,
   "metadata": {},
   "outputs": [
    {
     "name": "stdout",
     "output_type": "stream",
     "text": [
      "s3://bkt-sage-ml-test/sagemaker/price_classification/file_folder/train-file.csv\n",
      "s3://bkt-sage-ml-test/sagemaker/price_classification/file_folder/test-file.csv\n"
     ]
    }
   ],
   "source": [
    "print(trainpath)\n",
    "print(testpath)"
   ]
  },
  {
   "cell_type": "markdown",
   "metadata": {},
   "source": [
    "Main script file that will be executed"
   ]
  },
  {
   "cell_type": "code",
   "execution_count": 36,
   "metadata": {},
   "outputs": [
    {
     "name": "stdout",
     "output_type": "stream",
     "text": [
      "Writing pyscript.py\n"
     ]
    }
   ],
   "source": [
    "%%writefile pyscript.py \n",
    "#reference 1 - https://github.com/aws/amazon-sagemaker-examples/blob/main/sagemaker_processing/scikit_learn_data_processing_and_model_evaluation/scikit_learn_data_processing_and_model_evaluation.ipynb\n",
    "#reference 2 - https://sagemaker.readthedocs.io/en/stable/frameworks/sklearn/using_sklearn.html - much more legit and useful imo \n",
    "\n",
    "import argparse\n",
    "import joblib\n",
    "import os\n",
    "import numpy as np\n",
    "import pandas as pd\n",
    "from sklearn.ensemble import RandomForestClassifier\n",
    "from sklearn.metrics import accuracy_score, classification_report, confusion_matrix, precision_score, recall_score, f1_score, roc_curve, auc\n",
    "import sklearn\n",
    "import joblib\n",
    "import boto3\n",
    "import pathlib\n",
    "from io import StringIO \n",
    "\n",
    "    \n",
    "def model_fn(model_dir): #used to load the trained model - say maybe as an endpoint if we need it \n",
    "\n",
    "    clf = joblib.load(os.path.join(model_dir, \"model.joblib\"))\n",
    "    return clf\n",
    "    \n",
    "if __name__ == \"__main__\":\n",
    "\n",
    "    print(\"[Extracting arguments\")\n",
    "    parser = argparse.ArgumentParser()\n",
    "\n",
    "    #hyperparameters (set by us/business/client/requirement) passed as command-line arguments to the script.\n",
    "    parser.add_argument(\"--random_state\", type=int, default=0)\n",
    "    parser.add_argument(\"--n_estimators\", type=int, default=100)\n",
    "    \n",
    "\n",
    "    #Data, model, and output directories\n",
    "    parser.add_argument(\"--model-dir\", type=str, default=os.environ.get(\"SM_MODEL_DIR\"))\n",
    "    parser.add_argument(\"--train\", type=str, default=os.environ.get(\"SM_CHANNEL_TRAIN\"))\n",
    "    parser.add_argument(\"--test\", type=str, default=os.environ.get(\"SM_CHANNEL_TEST\"))\n",
    "    parser.add_argument(\"--train-file\", type=str, default=\"train-file.csv\")\n",
    "    parser.add_argument(\"--test-file\", type=str, default=\"test-file.csv\")\n",
    "\n",
    "    args, _ = parser.parse_known_args()\n",
    "    \n",
    "    print(\"SKLearn Version: \", sklearn.__version__)\n",
    "    print(\"Joblib Version: \", joblib.__version__)\n",
    "\n",
    "    print(\"Reading data\")\n",
    "    train_df = pd.read_csv(os.path.join(args.train, args.train_file))\n",
    "    test_df = pd.read_csv(os.path.join(args.test, args.test_file))\n",
    "    \n",
    "    features = list(train_df.columns)\n",
    "    label = features.pop(-1)\n",
    "    \n",
    "    print(\"Building training and testing datasets\")\n",
    "    print()\n",
    "    X_train = train_df[features]\n",
    "    X_test = test_df[features]\n",
    "    y_train = train_df[label]\n",
    "    y_test = test_df[label]\n",
    "\n",
    "#Info - can be used for logs maybe\n",
    "\n",
    "    print('Column order: ')\n",
    "    print(features)\n",
    "    print()\n",
    "    \n",
    "    print(\"Label column is: \",label)\n",
    "    print()\n",
    "    \n",
    "    print(\"Data Shape: \")\n",
    "    print()\n",
    "    print(\"---- SHAPE OF TRAINING DATA (85%) ----\")\n",
    "    print(X_train.shape)\n",
    "    print(y_train.shape)\n",
    "    print()\n",
    "    print(\"---- SHAPE OF TESTING DATA (15%) ----\")\n",
    "    print(X_test.shape)\n",
    "    print(y_test.shape)\n",
    "    print()\n",
    "    \n",
    "  \n",
    "    print(\"Training RandomForest Model.....\") #simplest random forest implementation i can think of tbh\n",
    "    print()\n",
    "    model =  RandomForestClassifier(n_estimators=args.n_estimators, random_state=args.random_state, verbose = 3,n_jobs=-1)\n",
    "    model.fit(X_train, y_train)\n",
    "    print()\n",
    "    \n",
    "\n",
    "    model_path = os.path.join(args.model_dir, \"model.joblib\")\n",
    "    joblib.dump(model,model_path)\n",
    "    print(\"Saving Model To \" + model_path)\n",
    "    print()\n",
    "\n",
    "    \n",
    "    y_pred_test = model.predict(X_test)\n",
    "    test_acc = accuracy_score(y_test,y_pred_test)\n",
    "    test_rep = classification_report(y_test,y_pred_test)\n",
    "\n",
    "    print()\n",
    "    print(\"---- METRICS RESULTS FOR TESTING DATA ----\")\n",
    "    print()\n",
    "    print(\"Total Rows are: \", X_test.shape[0])\n",
    "    print('[TESTING] Model Accuracy is: ', test_acc)\n",
    "    print('[TESTING] Testing Report: ')\n",
    "    print(test_rep)"
   ]
  },
  {
   "cell_type": "code",
   "execution_count": 42,
   "metadata": {},
   "outputs": [],
   "source": [
    "from sagemaker.sklearn.estimator import SKLearn #reference - https://sagemaker.readthedocs.io/en/stable/frameworks/sklearn/using_sklearn.html\n",
    "\n",
    "fm_ver = \"0.23-1\" #different frameworks ought to be available - look more into how different frameworks work differently \n",
    "\n",
    "sklearn_estimator = SKLearn(\n",
    "    entry_point=\"pyscript.py\",\n",
    "    role=\"arn:aws:iam::484907511963:role/sagemaker_test\", #used my own IAM role with admin access but the job failed - so created a new role specifically for sagemaker through the console - check why this happens \n",
    "    instance_count=1,\n",
    "    instance_type=\"ml.m5.large\", \n",
    "    framework_version=fm_ver,\n",
    "    base_job_name=\"sklearn-custom-testing\",\n",
    "    hyperparameters={\n",
    "        \"n_estimators\": 100,\n",
    "        \"random_state\": 0,\n",
    "    },\n",
    "    use_spot_instances = True,\n",
    "    max_wait = 7200,\n",
    "    max_run = 3600\n",
    ")"
   ]
  },
  {
   "cell_type": "code",
   "execution_count": 43,
   "metadata": {},
   "outputs": [
    {
     "data": {
      "text/html": [
       "<pre style=\"white-space:pre;overflow-x:auto;line-height:normal;font-family:Menlo,'DejaVu Sans Mono',consolas,'Courier New',monospace\"><span style=\"color: #7fbfbf; text-decoration-color: #7fbfbf\">[03/04/25 21:46:49] </span><span style=\"color: #0069ff; text-decoration-color: #0069ff; font-weight: bold\">INFO    </span> SageMaker Python SDK will collect telemetry to help us better  <a href=\"file://c:\\Users\\tanma\\AppData\\Local\\Programs\\Python\\Python311\\Lib\\site-packages\\sagemaker\\telemetry\\telemetry_logging.py\" target=\"_blank\"><span style=\"color: #7f7f7f; text-decoration-color: #7f7f7f\">telemetry_logging.py</span></a><span style=\"color: #7f7f7f; text-decoration-color: #7f7f7f\">:</span><a href=\"file://c:\\Users\\tanma\\AppData\\Local\\Programs\\Python\\Python311\\Lib\\site-packages\\sagemaker\\telemetry\\telemetry_logging.py#91\" target=\"_blank\"><span style=\"color: #7f7f7f; text-decoration-color: #7f7f7f\">91</span></a>\n",
       "<span style=\"color: #7fbfbf; text-decoration-color: #7fbfbf\">                    </span>         understand our user's needs, diagnose issues, and deliver      <span style=\"color: #7f7f7f; text-decoration-color: #7f7f7f\">                       </span>\n",
       "<span style=\"color: #7fbfbf; text-decoration-color: #7fbfbf\">                    </span>         additional features.                                           <span style=\"color: #7f7f7f; text-decoration-color: #7f7f7f\">                       </span>\n",
       "<span style=\"color: #7fbfbf; text-decoration-color: #7fbfbf\">                    </span>         To opt out of telemetry, please disable via TelemetryOptOut    <span style=\"color: #7f7f7f; text-decoration-color: #7f7f7f\">                       </span>\n",
       "<span style=\"color: #7fbfbf; text-decoration-color: #7fbfbf\">                    </span>         parameter in SDK defaults config. For more information, refer  <span style=\"color: #7f7f7f; text-decoration-color: #7f7f7f\">                       </span>\n",
       "<span style=\"color: #7fbfbf; text-decoration-color: #7fbfbf\">                    </span>         to                                                             <span style=\"color: #7f7f7f; text-decoration-color: #7f7f7f\">                       </span>\n",
       "<span style=\"color: #7fbfbf; text-decoration-color: #7fbfbf\">                    </span>         <span style=\"color: #0069ff; text-decoration-color: #0069ff; text-decoration: underline\">https://sagemaker.readthedocs.io/en/stable/overview.html#confi</span> <span style=\"color: #7f7f7f; text-decoration-color: #7f7f7f\">                       </span>\n",
       "<span style=\"color: #7fbfbf; text-decoration-color: #7fbfbf\">                    </span>         <span style=\"color: #0069ff; text-decoration-color: #0069ff; text-decoration: underline\">guring-and-using-defaults-with-the-sagemaker-python-sdk.</span>       <span style=\"color: #7f7f7f; text-decoration-color: #7f7f7f\">                       </span>\n",
       "</pre>\n"
      ],
      "text/plain": [
       "\u001b[2;36m[03/04/25 21:46:49]\u001b[0m\u001b[2;36m \u001b[0m\u001b[1;38;2;0;105;255mINFO    \u001b[0m SageMaker Python SDK will collect telemetry to help us better  \u001b]8;id=791004;file://c:\\Users\\tanma\\AppData\\Local\\Programs\\Python\\Python311\\Lib\\site-packages\\sagemaker\\telemetry\\telemetry_logging.py\u001b\\\u001b[2mtelemetry_logging.py\u001b[0m\u001b]8;;\u001b\\\u001b[2m:\u001b[0m\u001b]8;id=178559;file://c:\\Users\\tanma\\AppData\\Local\\Programs\\Python\\Python311\\Lib\\site-packages\\sagemaker\\telemetry\\telemetry_logging.py#91\u001b\\\u001b[2m91\u001b[0m\u001b]8;;\u001b\\\n",
       "\u001b[2;36m                    \u001b[0m         understand our user's needs, diagnose issues, and deliver      \u001b[2m                       \u001b[0m\n",
       "\u001b[2;36m                    \u001b[0m         additional features.                                           \u001b[2m                       \u001b[0m\n",
       "\u001b[2;36m                    \u001b[0m         To opt out of telemetry, please disable via TelemetryOptOut    \u001b[2m                       \u001b[0m\n",
       "\u001b[2;36m                    \u001b[0m         parameter in SDK defaults config. For more information, refer  \u001b[2m                       \u001b[0m\n",
       "\u001b[2;36m                    \u001b[0m         to                                                             \u001b[2m                       \u001b[0m\n",
       "\u001b[2;36m                    \u001b[0m         \u001b[4;38;2;0;105;255mhttps://sagemaker.readthedocs.io/en/stable/overview.html#confi\u001b[0m \u001b[2m                       \u001b[0m\n",
       "\u001b[2;36m                    \u001b[0m         \u001b[4;38;2;0;105;255mguring-and-using-defaults-with-the-sagemaker-python-sdk.\u001b[0m       \u001b[2m                       \u001b[0m\n"
      ]
     },
     "metadata": {},
     "output_type": "display_data"
    },
    {
     "data": {
      "text/html": [
       "<pre style=\"white-space:pre;overflow-x:auto;line-height:normal;font-family:Menlo,'DejaVu Sans Mono',consolas,'Courier New',monospace\"><span style=\"color: #7fbfbf; text-decoration-color: #7fbfbf\">[03/04/25 21:46:51] </span><span style=\"color: #0069ff; text-decoration-color: #0069ff; font-weight: bold\">INFO    </span> Creating training-job with name:                                       <a href=\"file://c:\\Users\\tanma\\AppData\\Local\\Programs\\Python\\Python311\\Lib\\site-packages\\sagemaker\\session.py\" target=\"_blank\"><span style=\"color: #7f7f7f; text-decoration-color: #7f7f7f\">session.py</span></a><span style=\"color: #7f7f7f; text-decoration-color: #7f7f7f\">:</span><a href=\"file://c:\\Users\\tanma\\AppData\\Local\\Programs\\Python\\Python311\\Lib\\site-packages\\sagemaker\\session.py#1042\" target=\"_blank\"><span style=\"color: #7f7f7f; text-decoration-color: #7f7f7f\">1042</span></a>\n",
       "<span style=\"color: #7fbfbf; text-decoration-color: #7fbfbf\">                    </span>         sklearn-custom-testing-<span style=\"color: #008080; text-decoration-color: #008080; font-weight: bold\">2025</span>-03-05-04-46-49-531                         <span style=\"color: #7f7f7f; text-decoration-color: #7f7f7f\">               </span>\n",
       "</pre>\n"
      ],
      "text/plain": [
       "\u001b[2;36m[03/04/25 21:46:51]\u001b[0m\u001b[2;36m \u001b[0m\u001b[1;38;2;0;105;255mINFO    \u001b[0m Creating training-job with name:                                       \u001b]8;id=549788;file://c:\\Users\\tanma\\AppData\\Local\\Programs\\Python\\Python311\\Lib\\site-packages\\sagemaker\\session.py\u001b\\\u001b[2msession.py\u001b[0m\u001b]8;;\u001b\\\u001b[2m:\u001b[0m\u001b]8;id=262595;file://c:\\Users\\tanma\\AppData\\Local\\Programs\\Python\\Python311\\Lib\\site-packages\\sagemaker\\session.py#1042\u001b\\\u001b[2m1042\u001b[0m\u001b]8;;\u001b\\\n",
       "\u001b[2;36m                    \u001b[0m         sklearn-custom-testing-\u001b[1;36m2025\u001b[0m-03-05-04-46-49-531                         \u001b[2m               \u001b[0m\n"
      ]
     },
     "metadata": {},
     "output_type": "display_data"
    },
    {
     "name": "stdout",
     "output_type": "stream",
     "text": [
      "2025-03-05 04:46:51 Starting - Starting the training job...\n",
      "2025-03-05 04:47:13 Starting - Preparing the instances for training...\n",
      "2025-03-05 04:47:57 Downloading - Downloading the training image......\n",
      "2025-03-05 04:48:55 Training - Training image download completed. Training in progress.\n",
      "2025-03-05 04:48:55 Uploading - Uploading generated training model2025-03-05 04:48:47,273 sagemaker-containers INFO     Imported framework sagemaker_sklearn_container.training\n",
      "2025-03-05 04:48:47,277 sagemaker-training-toolkit INFO     No GPUs detected (normal if no gpus installed)\n",
      "2025-03-05 04:48:47,324 sagemaker_sklearn_container.training INFO     Invoking user training script.\n",
      "2025-03-05 04:48:47,506 sagemaker-training-toolkit INFO     No GPUs detected (normal if no gpus installed)\n",
      "2025-03-05 04:48:47,519 sagemaker-training-toolkit INFO     No GPUs detected (normal if no gpus installed)\n",
      "2025-03-05 04:48:47,532 sagemaker-training-toolkit INFO     No GPUs detected (normal if no gpus installed)\n",
      "2025-03-05 04:48:47,541 sagemaker-training-toolkit INFO     Invoking user script\n",
      "Training Env:\n",
      "{\n",
      "    \"additional_framework_parameters\": {},\n",
      "    \"channel_input_dirs\": {\n",
      "        \"test\": \"/opt/ml/input/data/test\",\n",
      "        \"train\": \"/opt/ml/input/data/train\"\n",
      "    },\n",
      "    \"current_host\": \"algo-1\",\n",
      "    \"framework_module\": \"sagemaker_sklearn_container.training:main\",\n",
      "    \"hosts\": [\n",
      "        \"algo-1\"\n",
      "    ],\n",
      "    \"hyperparameters\": {\n",
      "        \"n_estimators\": 100,\n",
      "        \"random_state\": 0\n",
      "    },\n",
      "    \"input_config_dir\": \"/opt/ml/input/config\",\n",
      "    \"input_data_config\": {\n",
      "        \"test\": {\n",
      "            \"TrainingInputMode\": \"File\",\n",
      "            \"S3DistributionType\": \"FullyReplicated\",\n",
      "            \"RecordWrapperType\": \"None\"\n",
      "        },\n",
      "        \"train\": {\n",
      "            \"TrainingInputMode\": \"File\",\n",
      "            \"S3DistributionType\": \"FullyReplicated\",\n",
      "            \"RecordWrapperType\": \"None\"\n",
      "        }\n",
      "    },\n",
      "    \"input_dir\": \"/opt/ml/input\",\n",
      "    \"is_master\": true,\n",
      "    \"job_name\": \"sklearn-custom-testing-2025-03-05-04-46-49-531\",\n",
      "    \"log_level\": 20,\n",
      "    \"master_hostname\": \"algo-1\",\n",
      "    \"model_dir\": \"/opt/ml/model\",\n",
      "    \"module_dir\": \"s3://sagemaker-us-east-2-484907511963/sklearn-custom-testing-2025-03-05-04-46-49-531/source/sourcedir.tar.gz\",\n",
      "    \"module_name\": \"pyscript\",\n",
      "    \"network_interface_name\": \"eth0\",\n",
      "    \"num_cpus\": 2,\n",
      "    \"num_gpus\": 0,\n",
      "    \"output_data_dir\": \"/opt/ml/output/data\",\n",
      "    \"output_dir\": \"/opt/ml/output\",\n",
      "    \"output_intermediate_dir\": \"/opt/ml/output/intermediate\",\n",
      "    \"resource_config\": {\n",
      "        \"current_host\": \"algo-1\",\n",
      "        \"current_instance_type\": \"ml.m5.large\",\n",
      "        \"current_group_name\": \"homogeneousCluster\",\n",
      "        \"hosts\": [\n",
      "            \"algo-1\"\n",
      "        ],\n",
      "        \"instance_groups\": [\n",
      "            {\n",
      "                \"instance_group_name\": \"homogeneousCluster\",\n",
      "                \"instance_type\": \"ml.m5.large\",\n",
      "                \"hosts\": [\n",
      "                    \"algo-1\"\n",
      "                ]\n",
      "            }\n",
      "        ],\n",
      "        \"network_interface_name\": \"eth0\"\n",
      "    },\n",
      "    \"user_entry_point\": \"pyscript.py\"\n",
      "}\n",
      "Environment variables:\n",
      "SM_HOSTS=[\"algo-1\"]\n",
      "SM_NETWORK_INTERFACE_NAME=eth0\n",
      "SM_HPS={\"n_estimators\":100,\"random_state\":0}\n",
      "SM_USER_ENTRY_POINT=pyscript.py\n",
      "SM_FRAMEWORK_PARAMS={}\n",
      "SM_RESOURCE_CONFIG={\"current_group_name\":\"homogeneousCluster\",\"current_host\":\"algo-1\",\"current_instance_type\":\"ml.m5.large\",\"hosts\":[\"algo-1\"],\"instance_groups\":[{\"hosts\":[\"algo-1\"],\"instance_group_name\":\"homogeneousCluster\",\"instance_type\":\"ml.m5.large\"}],\"network_interface_name\":\"eth0\"}\n",
      "SM_INPUT_DATA_CONFIG={\"test\":{\"RecordWrapperType\":\"None\",\"S3DistributionType\":\"FullyReplicated\",\"TrainingInputMode\":\"File\"},\"train\":{\"RecordWrapperType\":\"None\",\"S3DistributionType\":\"FullyReplicated\",\"TrainingInputMode\":\"File\"}}\n",
      "SM_OUTPUT_DATA_DIR=/opt/ml/output/data\n",
      "SM_CHANNELS=[\"test\",\"train\"]\n",
      "SM_CURRENT_HOST=algo-1\n",
      "SM_MODULE_NAME=pyscript\n",
      "SM_LOG_LEVEL=20\n",
      "SM_FRAMEWORK_MODULE=sagemaker_sklearn_container.training:main\n",
      "SM_INPUT_DIR=/opt/ml/input\n",
      "SM_INPUT_CONFIG_DIR=/opt/ml/input/config\n",
      "SM_OUTPUT_DIR=/opt/ml/output\n",
      "SM_NUM_CPUS=2\n",
      "SM_NUM_GPUS=0\n",
      "SM_MODEL_DIR=/opt/ml/model\n",
      "SM_MODULE_DIR=s3://sagemaker-us-east-2-484907511963/sklearn-custom-testing-2025-03-05-04-46-49-531/source/sourcedir.tar.gz\n",
      "SM_TRAINING_ENV={\"additional_framework_parameters\":{},\"channel_input_dirs\":{\"test\":\"/opt/ml/input/data/test\",\"train\":\"/opt/ml/input/data/train\"},\"current_host\":\"algo-1\",\"framework_module\":\"sagemaker_sklearn_container.training:main\",\"hosts\":[\"algo-1\"],\"hyperparameters\":{\"n_estimators\":100,\"random_state\":0},\"input_config_dir\":\"/opt/ml/input/config\",\"input_data_config\":{\"test\":{\"RecordWrapperType\":\"None\",\"S3DistributionType\":\"FullyReplicated\",\"TrainingInputMode\":\"File\"},\"train\":{\"RecordWrapperType\":\"None\",\"S3DistributionType\":\"FullyReplicated\",\"TrainingInputMode\":\"File\"}},\"input_dir\":\"/opt/ml/input\",\"is_master\":true,\"job_name\":\"sklearn-custom-testing-2025-03-05-04-46-49-531\",\"log_level\":20,\"master_hostname\":\"algo-1\",\"model_dir\":\"/opt/ml/model\",\"module_dir\":\"s3://sagemaker-us-east-2-484907511963/sklearn-custom-testing-2025-03-05-04-46-49-531/source/sourcedir.tar.gz\",\"module_name\":\"pyscript\",\"network_interface_name\":\"eth0\",\"num_cpus\":2,\"num_gpus\":0,\"output_data_dir\":\"/opt/ml/output/data\",\"output_dir\":\"/opt/ml/output\",\"output_intermediate_dir\":\"/opt/ml/output/intermediate\",\"resource_config\":{\"current_group_name\":\"homogeneousCluster\",\"current_host\":\"algo-1\",\"current_instance_type\":\"ml.m5.large\",\"hosts\":[\"algo-1\"],\"instance_groups\":[{\"hosts\":[\"algo-1\"],\"instance_group_name\":\"homogeneousCluster\",\"instance_type\":\"ml.m5.large\"}],\"network_interface_name\":\"eth0\"},\"user_entry_point\":\"pyscript.py\"}\n",
      "SM_USER_ARGS=[\"--n_estimators\",\"100\",\"--random_state\",\"0\"]\n",
      "SM_OUTPUT_INTERMEDIATE_DIR=/opt/ml/output/intermediate\n",
      "SM_CHANNEL_TEST=/opt/ml/input/data/test\n",
      "SM_CHANNEL_TRAIN=/opt/ml/input/data/train\n",
      "SM_HP_N_ESTIMATORS=100\n",
      "SM_HP_RANDOM_STATE=0\n",
      "PYTHONPATH=/opt/ml/code:/miniconda3/bin:/miniconda3/lib/python37.zip:/miniconda3/lib/python3.7:/miniconda3/lib/python3.7/lib-dynload:/miniconda3/lib/python3.7/site-packages\n",
      "Invoking script with the following command:\n",
      "/miniconda3/bin/python pyscript.py --n_estimators 100 --random_state 0\n",
      "[Extracting arguments\n",
      "SKLearn Version:  0.23.2\n",
      "Joblib Version:  1.2.0\n",
      "Reading data\n",
      "Building training and testing datasets\n",
      "Column order: \n",
      "['battery_power', 'blue', 'clock_speed', 'dual_sim', 'fc', 'four_g', 'int_memory', 'm_dep', 'mobile_wt', 'n_cores', 'pc', 'px_height', 'px_width', 'ram', 'sc_h', 'sc_w', 'talk_time', 'three_g', 'touch_screen', 'wifi']\n",
      "Label column is:  price_range\n",
      "Data Shape: \n",
      "---- SHAPE OF TRAINING DATA (85%) ----\n",
      "(1700, 20)\n",
      "(1700,)\n",
      "---- SHAPE OF TESTING DATA (15%) ----\n",
      "(300, 20)\n",
      "(300,)\n",
      "Training RandomForest Model.....\n",
      "[Parallel(n_jobs=-1)]: Using backend ThreadingBackend with 2 concurrent workers.\n",
      "building tree 1 of 100building tree 2 of 100\n",
      "building tree 3 of 100\n",
      "building tree 4 of 100\n",
      "building tree 5 of 100\n",
      "building tree 6 of 100\n",
      "building tree 7 of 100\n",
      "building tree 8 of 100\n",
      "building tree 9 of 100\n",
      "building tree 10 of 100\n",
      "building tree 11 of 100\n",
      "building tree 12 of 100\n",
      "building tree 13 of 100\n",
      "building tree 14 of 100\n",
      "building tree 15 of 100\n",
      "building tree 16 of 100\n",
      "building tree 17 of 100\n",
      "building tree 18 of 100\n",
      "building tree 19 of 100\n",
      "building tree 20 of 100\n",
      "building tree 21 of 100building tree 22 of 100\n",
      "building tree 23 of 100\n",
      "building tree 24 of 100\n",
      "building tree 25 of 100\n",
      "building tree 26 of 100\n",
      "building tree 27 of 100\n",
      "building tree 28 of 100\n",
      "building tree 29 of 100building tree 30 of 100\n",
      "[Parallel(n_jobs=-1)]: Done  28 tasks      | elapsed:    0.1s\n",
      "building tree 31 of 100\n",
      "building tree 32 of 100\n",
      "building tree 33 of 100\n",
      "building tree 34 of 100\n",
      "building tree 35 of 100\n",
      "building tree 36 of 100\n",
      "building tree 37 of 100\n",
      "building tree 38 of 100\n",
      "building tree 39 of 100building tree 40 of 100\n",
      "building tree 41 of 100\n",
      "building tree 42 of 100\n",
      "building tree 43 of 100\n",
      "building tree 44 of 100\n",
      "building tree 45 of 100building tree 46 of 100\n",
      "building tree 47 of 100\n",
      "building tree 48 of 100\n",
      "building tree 49 of 100\n",
      "building tree 50 of 100\n",
      "building tree 51 of 100\n",
      "building tree 52 of 100\n",
      "building tree 53 of 100building tree 54 of 100\n",
      "building tree 55 of 100\n",
      "building tree 56 of 100\n",
      "building tree 57 of 100\n",
      "building tree 58 of 100\n",
      "building tree 59 of 100\n",
      "building tree 60 of 100\n",
      "building tree 61 of 100\n",
      "building tree 62 of 100\n",
      "building tree 63 of 100\n",
      "building tree 64 of 100building tree 65 of 100\n",
      "building tree 66 of 100\n",
      "building tree 67 of 100\n",
      "building tree 68 of 100building tree 69 of 100\n",
      "building tree 70 of 100\n",
      "building tree 71 of 100\n",
      "building tree 72 of 100\n",
      "building tree 73 of 100\n",
      "building tree 74 of 100\n",
      "building tree 75 of 100\n",
      "building tree 76 of 100\n",
      "building tree 77 of 100\n",
      "building tree 78 of 100\n",
      "building tree 79 of 100\n",
      "building tree 80 of 100\n",
      "building tree 81 of 100\n",
      "building tree 82 of 100\n",
      "building tree 83 of 100\n",
      "building tree 84 of 100\n",
      "building tree 85 of 100\n",
      "building tree 86 of 100\n",
      "building tree 87 of 100\n",
      "building tree 88 of 100building tree 89 of 100\n",
      "building tree 90 of 100\n",
      "building tree 91 of 100\n",
      "building tree 92 of 100building tree 93 of 100\n",
      "building tree 94 of 100\n",
      "building tree 95 of 100\n",
      "building tree 96 of 100\n",
      "building tree 97 of 100\n",
      "building tree 98 of 100\n",
      "building tree 99 of 100\n",
      "building tree 100 of 100\n",
      "[Parallel(n_jobs=-1)]: Done 100 out of 100 | elapsed:    0.3s finished\n",
      "Saving Model To /opt/ml/model/model.joblib\n",
      "[Parallel(n_jobs=2)]: Using backend ThreadingBackend with 2 concurrent workers.\n",
      "[Parallel(n_jobs=2)]: Done  28 tasks      | elapsed:    0.0s\n",
      "[Parallel(n_jobs=2)]: Done 100 out of 100 | elapsed:    0.0s finished\n",
      "---- METRICS RESULTS FOR TESTING DATA ----\n",
      "Total Rows are:  300\n",
      "[TESTING] Model Accuracy is:  0.8833333333333333\n",
      "[TESTING] Testing Report: \n",
      "              precision    recall  f1-score   support\n",
      "           0       0.95      1.00      0.97        69\n",
      "           1       0.85      0.80      0.83        66\n",
      "           2       0.80      0.77      0.79        74\n",
      "           3       0.91      0.95      0.93        91\n",
      "    accuracy                           0.88       300\n",
      "   macro avg       0.88      0.88      0.88       300\n",
      "weighted avg       0.88      0.88      0.88       300\n",
      "2025-03-05 04:48:49,184 sagemaker-containers INFO     Reporting training SUCCESS\n",
      "\n",
      "2025-03-05 04:49:07 Completed - Training job completed\n",
      "Training seconds: 96\n",
      "Billable seconds: 36\n",
      "Managed Spot Training savings: 62.5%\n"
     ]
    }
   ],
   "source": [
    "\n",
    "#launching the training job - check console to be sure\n",
    "\n",
    "sklearn_estimator.fit({\"train\": trainpath, \"test\": testpath}, wait=True)  #sklearn_estimator.fit({\"train\": datapath}, wait=True) \n",
    "\n",
    "#output can be found at a path mentioned in the sagemaker job comsole "
   ]
  },
  {
   "cell_type": "code",
   "execution_count": 46,
   "metadata": {},
   "outputs": [
    {
     "name": "stdout",
     "output_type": "stream",
     "text": [
      "\n",
      "2025-03-05 04:49:07 Starting - Preparing the instances for training\n",
      "2025-03-05 04:49:07 Downloading - Downloading the training image\n",
      "2025-03-05 04:49:07 Training - Training image download completed. Training in progress.\n",
      "2025-03-05 04:49:07 Uploading - Uploading generated training model\n",
      "2025-03-05 04:49:07 Completed - Training job completed\n",
      "s3://sagemaker-us-east-2-484907511963/sklearn-custom-testing-2025-03-05-04-46-49-531/output/model.tar.gz\n"
     ]
    }
   ],
   "source": [
    "sklearn_estimator.latest_training_job.wait(logs=\"None\")\n",
    "artifact = sm_boto3.describe_training_job(TrainingJobName=sklearn_estimator.latest_training_job.name)[\"ModelArtifacts\"][\"S3ModelArtifacts\"] #these are predefined keys as i found out after an hour of debugging\n",
    "\n",
    "print(artifact) #tells you where to find your model "
   ]
  },
  {
   "cell_type": "markdown",
   "metadata": {},
   "source": [
    "Figuring out how to make an endpoint - for deployments and stuff"
   ]
  },
  {
   "cell_type": "code",
   "execution_count": 50,
   "metadata": {},
   "outputs": [],
   "source": [
    "from sagemaker.sklearn.model import SKLearnModel\n",
    "\n",
    "model_name = \"Custom-sklearn-model\"\n",
    "model = SKLearnModel(\n",
    "    name =  model_name,\n",
    "    model_data=artifact,\n",
    "    role=\"arn:aws:iam::484907511963:role/sagemaker_test\",\n",
    "    entry_point=\"pyscript.py\",\n",
    "    framework_version=fm_ver,\n",
    ")\n",
    "\n",
    "#essentially creating a copy of the model to deploy as a separate/independent entity"
   ]
  },
  {
   "cell_type": "code",
   "execution_count": 51,
   "metadata": {},
   "outputs": [
    {
     "name": "stdout",
     "output_type": "stream",
     "text": [
      "EndpointName=Custom-sklearn-model\n"
     ]
    },
    {
     "data": {
      "text/html": [
       "<pre style=\"white-space:pre;overflow-x:auto;line-height:normal;font-family:Menlo,'DejaVu Sans Mono',consolas,'Courier New',monospace\"><span style=\"color: #7fbfbf; text-decoration-color: #7fbfbf\">[03/04/25 22:02:51] </span><span style=\"color: #0069ff; text-decoration-color: #0069ff; font-weight: bold\">INFO    </span> Creating model with name: Custom-sklearn-model                         <a href=\"file://c:\\Users\\tanma\\AppData\\Local\\Programs\\Python\\Python311\\Lib\\site-packages\\sagemaker\\session.py\" target=\"_blank\"><span style=\"color: #7f7f7f; text-decoration-color: #7f7f7f\">session.py</span></a><span style=\"color: #7f7f7f; text-decoration-color: #7f7f7f\">:</span><a href=\"file://c:\\Users\\tanma\\AppData\\Local\\Programs\\Python\\Python311\\Lib\\site-packages\\sagemaker\\session.py#4094\" target=\"_blank\"><span style=\"color: #7f7f7f; text-decoration-color: #7f7f7f\">4094</span></a>\n",
       "</pre>\n"
      ],
      "text/plain": [
       "\u001b[2;36m[03/04/25 22:02:51]\u001b[0m\u001b[2;36m \u001b[0m\u001b[1;38;2;0;105;255mINFO    \u001b[0m Creating model with name: Custom-sklearn-model                         \u001b]8;id=65319;file://c:\\Users\\tanma\\AppData\\Local\\Programs\\Python\\Python311\\Lib\\site-packages\\sagemaker\\session.py\u001b\\\u001b[2msession.py\u001b[0m\u001b]8;;\u001b\\\u001b[2m:\u001b[0m\u001b]8;id=902842;file://c:\\Users\\tanma\\AppData\\Local\\Programs\\Python\\Python311\\Lib\\site-packages\\sagemaker\\session.py#4094\u001b\\\u001b[2m4094\u001b[0m\u001b]8;;\u001b\\\n"
      ]
     },
     "metadata": {},
     "output_type": "display_data"
    },
    {
     "data": {
      "text/html": [
       "<pre style=\"white-space:pre;overflow-x:auto;line-height:normal;font-family:Menlo,'DejaVu Sans Mono',consolas,'Courier New',monospace\"><span style=\"color: #7fbfbf; text-decoration-color: #7fbfbf\">[03/04/25 22:02:52] </span><span style=\"color: #0069ff; text-decoration-color: #0069ff; font-weight: bold\">INFO    </span> Creating endpoint-config with name Custom-sklearn-model                <a href=\"file://c:\\Users\\tanma\\AppData\\Local\\Programs\\Python\\Python311\\Lib\\site-packages\\sagemaker\\session.py\" target=\"_blank\"><span style=\"color: #7f7f7f; text-decoration-color: #7f7f7f\">session.py</span></a><span style=\"color: #7f7f7f; text-decoration-color: #7f7f7f\">:</span><a href=\"file://c:\\Users\\tanma\\AppData\\Local\\Programs\\Python\\Python311\\Lib\\site-packages\\sagemaker\\session.py#5889\" target=\"_blank\"><span style=\"color: #7f7f7f; text-decoration-color: #7f7f7f\">5889</span></a>\n",
       "</pre>\n"
      ],
      "text/plain": [
       "\u001b[2;36m[03/04/25 22:02:52]\u001b[0m\u001b[2;36m \u001b[0m\u001b[1;38;2;0;105;255mINFO    \u001b[0m Creating endpoint-config with name Custom-sklearn-model                \u001b]8;id=361705;file://c:\\Users\\tanma\\AppData\\Local\\Programs\\Python\\Python311\\Lib\\site-packages\\sagemaker\\session.py\u001b\\\u001b[2msession.py\u001b[0m\u001b]8;;\u001b\\\u001b[2m:\u001b[0m\u001b]8;id=946964;file://c:\\Users\\tanma\\AppData\\Local\\Programs\\Python\\Python311\\Lib\\site-packages\\sagemaker\\session.py#5889\u001b\\\u001b[2m5889\u001b[0m\u001b]8;;\u001b\\\n"
      ]
     },
     "metadata": {},
     "output_type": "display_data"
    },
    {
     "data": {
      "text/html": [
       "<pre style=\"white-space:pre;overflow-x:auto;line-height:normal;font-family:Menlo,'DejaVu Sans Mono',consolas,'Courier New',monospace\"><span style=\"color: #7fbfbf; text-decoration-color: #7fbfbf\">                    </span><span style=\"color: #0069ff; text-decoration-color: #0069ff; font-weight: bold\">INFO    </span> Creating endpoint with name Custom-sklearn-model                       <a href=\"file://c:\\Users\\tanma\\AppData\\Local\\Programs\\Python\\Python311\\Lib\\site-packages\\sagemaker\\session.py\" target=\"_blank\"><span style=\"color: #7f7f7f; text-decoration-color: #7f7f7f\">session.py</span></a><span style=\"color: #7f7f7f; text-decoration-color: #7f7f7f\">:</span><a href=\"file://c:\\Users\\tanma\\AppData\\Local\\Programs\\Python\\Python311\\Lib\\site-packages\\sagemaker\\session.py#4711\" target=\"_blank\"><span style=\"color: #7f7f7f; text-decoration-color: #7f7f7f\">4711</span></a>\n",
       "</pre>\n"
      ],
      "text/plain": [
       "\u001b[2;36m                   \u001b[0m\u001b[2;36m \u001b[0m\u001b[1;38;2;0;105;255mINFO    \u001b[0m Creating endpoint with name Custom-sklearn-model                       \u001b]8;id=390935;file://c:\\Users\\tanma\\AppData\\Local\\Programs\\Python\\Python311\\Lib\\site-packages\\sagemaker\\session.py\u001b\\\u001b[2msession.py\u001b[0m\u001b]8;;\u001b\\\u001b[2m:\u001b[0m\u001b]8;id=155100;file://c:\\Users\\tanma\\AppData\\Local\\Programs\\Python\\Python311\\Lib\\site-packages\\sagemaker\\session.py#4711\u001b\\\u001b[2m4711\u001b[0m\u001b]8;;\u001b\\\n"
      ]
     },
     "metadata": {},
     "output_type": "display_data"
    },
    {
     "name": "stdout",
     "output_type": "stream",
     "text": [
      "------!"
     ]
    }
   ],
   "source": [
    "endpoint_name = \"Custom-sklearn-model\" #creates a new folder in the output bucket\n",
    "print(\"EndpointName={}\".format(endpoint_name))\n",
    "\n",
    "predictor = model.deploy(\n",
    "    initial_instance_count=1,\n",
    "    instance_type=\"ml.m4.xlarge\",\n",
    "    endpoint_name=endpoint_name,\n",
    ")"
   ]
  },
  {
   "cell_type": "code",
   "execution_count": 54,
   "metadata": {},
   "outputs": [
    {
     "name": "stdout",
     "output_type": "stream",
     "text": [
      "[3 3 2 3 1 3 3 1 3 0 3 3 0 0 2 0 2 1 3 2 1 3 1 1 3 0 2 0 2 0 2 0 3 0 0 1 3\n",
      " 1 2 1 1 2 0 0 0 1 0 3 1 2 2 0 3 0 3 1 3 1 1 3 3 2 0 1 1 1 1 3 1 1 1 2 2 3\n",
      " 3 0 2 0 2 3 0 3 3 0 3 0 3 1 3 0 1 2 2 0 2 1 0 2 1 2 1 0 0 3 1 2 0 1 2 3 3\n",
      " 3 1 3 3 3 3 1 3 0 0 3 2 1 1 0 3 2 3 1 0 1 1 1 3 1 1 0 3 2 1 2 1 2 2 3 3 2\n",
      " 2 3 2 3 0 0 2 2 3 3 3 3 2 2 3 3 3 3 1 0 3 0 0 0 1 1 0 1 0 0 1 2 1 0 0 0 1\n",
      " 2 2 1 0 0 0 1 0 3 1 0 2 2 2 3 1 2 3 3 3 1 2 1 0 0 1 3 0 2 3 3 0 2 0 3 2 2\n",
      " 3 0 0 1 0 3 0 1 0 2 2 1 3 0 3 0 3 1 2 0 0 2 1 3 3 3 1 1 3 0 0 2 3 3 1 3 1\n",
      " 0 3 2 1 2 3 3 3 1 0 1 1 3 1 1 3 2 0 3 0 1 2 0 0 3 2 3 2 2 1 3 3 2 3 2 2 1\n",
      " 2 0 2 3 1 0 0 3 0 3 0 1 2 0 2 3 1 3 1 2 1 2 0 0 0 1 3 2 0 0 0 3 1 0 3 3 1\n",
      " 2 3 2 3 1 3 3 2 2 2 3 3 0 3 0 3 1 3 1 2 3 0 1 1 3 1 3 2 3 0 0 0 0 2 0 0 2\n",
      " 1 1 2 3 2 0 1 0 0 3 2 0 3 1 2 2 1 2 3 1 1 2 2 1 2 0 1 1 0 3 2 1 0 1 0 0 1\n",
      " 0 0 0 0 2 2 3 2 3 0 3 0 3 0 1 1 1 1 0 3 2 3 3 1 3 1 3 1 3 2 1 2 2 1 1 0 0\n",
      " 0 1 2 1 0 3 2 0 2 3 0 0 3 1 1 0 2 3 3 0 3 0 2 3 2 3 0 2 0 1 3 0 1 1 0 0 1\n",
      " 1 2 3 3 3 2 3 1 1 2 3 3 3 1 0 2 2 2 2 1 0 2 2 0 0 0 3 1 1 2 2 2 0 3 0 2 2\n",
      " 0 3 0 2 3 0 1 1 3 3 1 1 2 3 2 0 2 1 2 0 3 3 1 2 2 2 3 0 1 2 3 1 3 2 3 1 1\n",
      " 0 1 3 1 0 3 2 3 2 0 3 3 3 2 3 3 1 1 0 2 3 3 1 0 1 1 2 2 1 0 0 2 2 3 2 0 2\n",
      " 1 3 3 0 1 3 1 2 1 0 0 0 2 1 0 1 1 2 2 0 2 2 1 0 3 0 0 3 2 0 0 0 0 0 3 0 3\n",
      " 1 3 2 1 3 2 0 2 1 3 2 3 1 0 3 0 1 0 2 0 0 1 1 1 2 1 3 1 3 2 2 1 3 2 0 1 2\n",
      " 0 3 3 0 2 1 1 2 0 3 2 0 3 2 3 0 0 3 0 1 2 3 2 1 2 2 1 1 3 0 1 1 2 2 1 0 0\n",
      " 1 0 0 3 0 1 1 0 1 1 1 3 0 3 2 3 0 0 1 2 2 1 0 1 1 0 1 1 0 0 3 3 0 3 1 2 3\n",
      " 0 1 0 2 2 0 3 1 0 3 0 1 0 3 3 3 2 3 0 3 2 0 1 0 3 3 2 0 2 1 3 1 0 3 2 0 3\n",
      " 1 2 1 1 1 3 1 1 1 2 0 0 1 2 0 2 0 0 0 0 3 3 3 3 0 1 2 1 1 0 0 2 1 0 2 0 2\n",
      " 2 2 1 2 0 2 1 3 0 0 3 1 3 0 0 2 3 2 1 2 2 1 0 0 2 3 1 3 0 0 0 2 2 1 3 0 3\n",
      " 2 1 2 3 3 0 1 1 2 1 2 2 0 1 3 1 1 3 1 2 3 1 1 1 2 3 3 0 3 3 0 2 3 2 2 2 3\n",
      " 2 0 1 2 0 2 1 1 2 2 2 1 2 1 0 1 3 1 0 1 1 3 1 0 0 3 2 2 3 0 3 3 2 1 3 0 1\n",
      " 3 1 2 1 1 2 2 0 3 0 2 3 0 2 1 3 3 1 1 2 3 1 0 1 1 2 1 3 0 2 2 0 2 3 2 3 0\n",
      " 2 1 1 2 2 3 3 0 2 1 2 1 3 0 1 3 0 1 0 0 3 2 2 0 0 0 0 3 2 3 3 0 0 2 1 0 2\n",
      " 2]\n"
     ]
    }
   ],
   "source": [
    "#this enables us to use our model as an independent thing - and so we can pass additional data (not present in AWS bucket) to do some predictions\n",
    "\n",
    "df2[features].values.tolist()\n",
    "print(predictor.predict(df2[features].values.tolist()))\n"
   ]
  },
  {
   "cell_type": "code",
   "execution_count": 55,
   "metadata": {},
   "outputs": [
    {
     "data": {
      "text/plain": [
       "{'ResponseMetadata': {'RequestId': '64e8897e-2b78-4508-ab7b-62d807611570',\n",
       "  'HTTPStatusCode': 200,\n",
       "  'HTTPHeaders': {'x-amzn-requestid': '64e8897e-2b78-4508-ab7b-62d807611570',\n",
       "   'content-type': 'application/x-amz-json-1.1',\n",
       "   'date': 'Wed, 05 Mar 2025 05:08:03 GMT',\n",
       "   'content-length': '0'},\n",
       "  'RetryAttempts': 0}}"
      ]
     },
     "execution_count": 55,
     "metadata": {},
     "output_type": "execute_result"
    }
   ],
   "source": [
    "#DELETE YOUR ENDPOINT OR YOU WILL HAVE THE WORST MORNING EVER TRUST ME I KNOW\n",
    "\n",
    "sm_boto3.delete_endpoint(EndpointName=endpoint_name)"
   ]
  },
  {
   "cell_type": "code",
   "execution_count": 56,
   "metadata": {},
   "outputs": [],
   "source": [
    "#what a fun project wow"
   ]
  },
  {
   "cell_type": "code",
   "execution_count": null,
   "metadata": {},
   "outputs": [],
   "source": []
  }
 ],
 "metadata": {
  "kernelspec": {
   "display_name": "Python 3",
   "language": "python",
   "name": "python3"
  },
  "language_info": {
   "codemirror_mode": {
    "name": "ipython",
    "version": 3
   },
   "file_extension": ".py",
   "mimetype": "text/x-python",
   "name": "python",
   "nbconvert_exporter": "python",
   "pygments_lexer": "ipython3",
   "version": "3.11.4"
  }
 },
 "nbformat": 4,
 "nbformat_minor": 2
}
